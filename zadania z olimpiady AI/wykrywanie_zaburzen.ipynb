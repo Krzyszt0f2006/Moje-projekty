{
  "nbformat": 4,
  "nbformat_minor": 0,
  "metadata": {
    "colab": {
      "provenance": []
    },
    "kernelspec": {
      "name": "python3",
      "display_name": "Python 3"
    },
    "language_info": {
      "name": "python"
    }
  },
  "cells": [
    {
      "cell_type": "code",
      "execution_count": 1,
      "metadata": {
        "id": "l6JS-xpKIE9N"
      },
      "outputs": [],
      "source": [
        "######################### NIE ZMIENIAJ TEJ KOMÓRKI PODCZAS WYSYŁANIA ##########################\n",
        "\n",
        "# W czasie sprawdzania Twojego rozwiązania, wartość flagi FINAL_EVALUATION_MODE zostanie zmieniona na True\n",
        "FINAL_EVALUATION_MODE = False"
      ]
    },
    {
      "cell_type": "code",
      "source": [
        "######################### NIE ZMIENIAJ TEJ KOMÓRKI PODCZAS WYSYŁANIA ##########################\n",
        "import cloudpickle\n",
        "\n",
        "import os\n",
        "import random\n",
        "from abc import ABC, abstractmethod\n",
        "\n",
        "import numpy as np\n",
        "from sklearn.ensemble import RandomForestClassifier\n",
        "from sklearn.metrics import balanced_accuracy_score"
      ],
      "metadata": {
        "id": "NpRT-mLVK4_h"
      },
      "execution_count": 2,
      "outputs": []
    },
    {
      "cell_type": "code",
      "source": [
        "######################### NIE ZMIENIAJ TEJ KOMÓRKI PODCZAS WYSYŁANIA ##########################\n",
        "\n",
        "# Ustawienie ziarna generatora liczb pseudolosowych w celu zapewnienia deterministyczności wyników.\n",
        "random.seed(42)\n",
        "np.random.seed(42)"
      ],
      "metadata": {
        "id": "Cz9SWJsLK8Bb"
      },
      "execution_count": 3,
      "outputs": []
    },
    {
      "cell_type": "code",
      "source": [
        "######################### NIE ZMIENIAJ TEJ KOMÓRKI PODCZAS WYSYŁANIA ##########################\n",
        "\n",
        "train_val_filename = \"train_validation_sets.npz\"\n",
        "if not os.path.exists(train_val_filename):\n",
        "    import gdown\n",
        "    url = \"https://drive.google.com/file/d/1pCqgbsKBQP1UnH2kMmBKRS1AuvmSl9jx/view?usp=sharing\"\n",
        "    gdown.download(url, train_val_filename, quiet=True, fuzzy=True)\n",
        "\n",
        "train_valid_bundle = np.load(\"train_validation_sets.npz\", allow_pickle=True)\n",
        "x_train = train_valid_bundle[\"X_train\"]\n",
        "y_train = train_valid_bundle[\"y_train\"]\n",
        "y_train_str = train_valid_bundle[\"anomaly_train\"]\n",
        "\n",
        "x_valid = train_valid_bundle[\"X_validation\"]\n",
        "y_valid = train_valid_bundle[\"y_validation\"]\n",
        "y_valid_str = train_valid_bundle[\"anomaly_validation\"]"
      ],
      "metadata": {
        "id": "3OeSBt3WK9bp"
      },
      "execution_count": 4,
      "outputs": []
    },
    {
      "cell_type": "code",
      "source": [
        "######################### NIE ZMIENIAJ TEJ KOMÓRKI PODCZAS WYSYŁANIA ##########################\n",
        "\n",
        "class ISolution(ABC):\n",
        "    random_forest: RandomForestClassifier | None = None\n",
        "\n",
        "    @classmethod\n",
        "    def create_with_training(cls) -> \"ISolution\":\n",
        "        \"\"\"Metoda służąca do stworzenia rozwiązania z wytrenowanym lasem losowym.\"\"\"\n",
        "        solution = cls()\n",
        "\n",
        "        hyperparameters = cls.get_rf_hyperparameters()\n",
        "        hyperparameters = cls.validate_hyperparameters(hyperparameters)\n",
        "        solution.random_forest = RandomForestClassifier(**hyperparameters)\n",
        "\n",
        "        meta_features = solution.compute_meta_features(x_train)\n",
        "        solution.random_forest.fit(meta_features, y_train)\n",
        "        return solution\n",
        "\n",
        "    @staticmethod\n",
        "    def validate_hyperparameters(hyperparameters: dict[str, int | float | str]) -> dict[str, int | float | str]:\n",
        "        \"\"\"\n",
        "        Funkcja ta sprawdza, czy hiperparametry lasu losowego są zgodne z wymaganiami zadania. Jeśli nie, to poprawia je na\n",
        "        domyślne wartości.\n",
        "        \"\"\"\n",
        "        hyperparameters[\"n_estimators\"] = min(hyperparameters.get(\"n_estimators\", 10), 10)\n",
        "        hyperparameters[\"max_depth\"] = min(hyperparameters.get(\"max_depth\", 10), 10)\n",
        "        hyperparameters[\"random_state\"] = 42\n",
        "        return hyperparameters\n",
        "\n",
        "    @abstractmethod\n",
        "    def compute_meta_features(self, x: np.ndarray) -> np.ndarray:\n",
        "        \"\"\"\n",
        "        Funkcja ta powinna dla każdego przykładu ze zbioru $x$ opisanego 150 cechami zwrócić wektor 4 cech, który będzie\n",
        "        reprezentował ten przykład. Funkcja ta powinna przekształcać wejściową tablicę o rozmiarze (n, 150) na tablicę o\n",
        "        rozmiarze (n, 4).\n",
        "        \"\"\"\n",
        "\n",
        "        pass\n",
        "\n",
        "    @staticmethod\n",
        "    @abstractmethod\n",
        "    def get_rf_hyperparameters() -> dict[str, int | float | str]:\n",
        "        \"\"\"\n",
        "        Funkcja ta powinna zwracać słownik z hiperparametrami lasu losowego. Pamiętaj o ograniczeniach na liczbę drzew i ich\n",
        "        głębokość!\n",
        "        \"\"\"\n",
        "\n",
        "        pass"
      ],
      "metadata": {
        "id": "VF6aa_T3LCM_"
      },
      "execution_count": 5,
      "outputs": []
    },
    {
      "cell_type": "code",
      "source": [
        "######################### NIE ZMIENIAJ TEJ KOMÓRKI PODCZAS WYSYŁANIA ##########################\n",
        "\n",
        "def balanced_accuracy_to_score(balanced_accuracy: float) -> float:\n",
        "    return min(max((balanced_accuracy - 75.) * (100. / (98. - 75.)), 0.), 100.)\n",
        "\n",
        "\n",
        "def score_solution(solution: ISolution) -> float:\n",
        "    x, y = x_valid, y_valid\n",
        "    meta_features = solution.compute_meta_features(x)\n",
        "    y_hat = solution.random_forest.predict(meta_features)\n",
        "    balanced_accuracy = 100. * balanced_accuracy_score(y, y_hat)\n",
        "\n",
        "    assert meta_features.shape[-1] <= 4\n",
        "    assert solution.random_forest.n_estimators <= 10\n",
        "    assert solution.random_forest.max_depth <= 10\n",
        "\n",
        "    if not FINAL_EVALUATION_MODE:\n",
        "        print(\"Ocena działania modelu: \\n\")\n",
        "        print(f\"Zbalansowana dokładność klasyfikacji: {balanced_accuracy: .4f}\")\n",
        "    return int(round(balanced_accuracy_to_score(balanced_accuracy)))"
      ],
      "metadata": {
        "id": "TR7rkxxzL9pt"
      },
      "execution_count": 6,
      "outputs": []
    },
    {
      "cell_type": "code",
      "source": [
        "######################### NIE ZMIENIAJ TEJ KOMÓRKI PODCZAS WYSYŁANIA ##########################\n",
        "\n",
        "class ExemplarySolution(ISolution):\n",
        "    def compute_meta_features(self, x: np.ndarray) -> np.ndarray:\n",
        "        return np.array([\n",
        "            np.min(x, axis=1),\n",
        "            np.max(x, axis=1),\n",
        "            np.mean(x, axis=1),\n",
        "            np.std(x, axis=1)\n",
        "        ]).T\n",
        "\n",
        "    @staticmethod\n",
        "    def get_rf_hyperparameters() -> dict[str, int | float | str]:\n",
        "        return {\n",
        "            \"n_estimators\": 3,\n",
        "            \"random_state\": 42\n",
        "        }"
      ],
      "metadata": {
        "id": "PX2QkfpRL-dF"
      },
      "execution_count": 7,
      "outputs": []
    },
    {
      "cell_type": "code",
      "source": [
        "if not FINAL_EVALUATION_MODE:\n",
        "    exemplary_solution = ExemplarySolution.create_with_training()\n",
        "    print(f\"Ocena: {score_solution(exemplary_solution)} pkt\")"
      ],
      "metadata": {
        "id": "CVk__pL8MHS0",
        "colab": {
          "base_uri": "https://localhost:8080/"
        },
        "outputId": "6fc8cd01-f4ba-42fd-fb91-28ee05d0266f"
      },
      "execution_count": 8,
      "outputs": [
        {
          "output_type": "stream",
          "name": "stdout",
          "text": [
            "Ocena działania modelu: \n",
            "\n",
            "Zbalansowana dokładność klasyfikacji:  45.3163\n",
            "Ocena: 0 pkt\n"
          ]
        }
      ]
    },
    {
      "cell_type": "code",
      "source": [
        "import numpy as np\n",
        "from scipy import signal\n",
        "from sklearn.ensemble import RandomForestClassifier\n",
        "class YourSolution(ISolution):\n",
        "    def compute_meta_features(self, x: np.ndarray, filter_params: tuple[float, float, int] = (0.5, 40, 2)) -> np.ndarray:\n",
        "        meta_features = []\n",
        "        fs = 81\n",
        "        lowcut, highcut, order = filter_params\n",
        "        for sample in x:\n",
        "            if len(sample) < 15:\n",
        "                sample_padded = np.pad(sample, (0, max(0, 15 - len(sample))), mode='constant', constant_values=0)\n",
        "            else:\n",
        "                sample_padded = sample\n",
        "            b, a = signal.butter(order, [lowcut, highcut], btype='band', fs=fs)\n",
        "            sample_filt = signal.filtfilt(b, a, sample_padded)\n",
        "            sample_filt = (sample_filt - np.mean(sample_filt)) / (np.std(sample_filt) + 1e-6)\n",
        "            avg_peak_height = np.mean(sample_filt) + 0.5 * np.std(sample_filt)\n",
        "            peaks, _ = signal.find_peaks(sample_filt, height=avg_peak_height, distance=len(sample_filt) // 15)\n",
        "            rr_intervals = np.diff(peaks) if len(peaks) > 1 else [0]\n",
        "            rr_median = np.median(rr_intervals)\n",
        "            fft_vals = np.abs(np.fft.rfft(sample_filt))\n",
        "            freqs = np.fft.rfftfreq(len(sample_filt), d=1 / fs)\n",
        "            qrs_energy = np.sum(fft_vals[(freqs >= 5) & (freqs <= 15)])\n",
        "            r_amplitude = np.max(sample_filt[peaks]) if len(peaks) > 0 else np.max(sample_filt)\n",
        "            ##############################################\n",
        "            def higuchi_fd(ts, kmax=10):\n",
        "                n = len(ts)\n",
        "                lk = np.zeros(kmax)\n",
        "                x = np.array(ts)\n",
        "                for k in range(1, kmax + 1):\n",
        "                    lm = np.zeros(k)\n",
        "                    for m in range(k):\n",
        "                        lm[m] = np.sum(np.abs(x[m + k::k] - x[m:-k:k])) * (n - 1) / (k * ((n - m) / k))\n",
        "                    lk[k - 1] = np.mean(lm)\n",
        "                return -np.polyfit(np.log(range(1, kmax + 1)), np.log(lk), 1)[0]\n",
        "            higuchi = higuchi_fd(sample_filt)\n",
        "            meta_features.append([rr_median, qrs_energy, r_amplitude, higuchi])\n",
        "        return np.array(meta_features)\n",
        "    @staticmethod\n",
        "    def get_rf_hyperparameters() -> dict[str, int | float | str]:\n",
        "        #parametry z GridSarchCV\n",
        "        return {\n",
        "            \"n_estimators\": 10,\n",
        "            \"max_depth\": 8,\n",
        "            \"random_state\": 42,\n",
        "            \"max_features\": 2,                # 'sqrt'\n",
        "            \"min_samples_split\": 2,\n",
        "            \"min_samples_leaf\": 8,            #  1\n",
        "            \"class_weight\": 'balanced_subsample',  #  'balanced'\n",
        "            \"n_jobs\": -1\n",
        "        }\n",
        "    @classmethod\n",
        "    ###################################################\n",
        "    def create_with_training(cls) -> \"YourSolution\":\n",
        "        solution = cls()\n",
        "        # ustawienie preprocessingu\n",
        "        best_filter = (0.5, 40, 2)\n",
        "        x_train_processed = solution.compute_meta_features(x_train, best_filter)\n",
        "        rf = RandomForestClassifier(**cls.get_rf_hyperparameters())\n",
        "        rf.fit(x_train_processed, y_train)\n",
        "        #############################################\n",
        "        solution.random_forest = rf\n",
        "        solution.best_filter = best_filter\n",
        "        return solution\n",
        "    def predict(self, x: np.ndarray) -> np.ndarray:\n",
        "        x_processed = self.compute_meta_features(x, self.best_filter)\n",
        "        return self.random_forest.predict(x_processed)\n"
      ],
      "metadata": {
        "id": "VoCK6kJ88eoF"
      },
      "execution_count": 9,
      "outputs": []
    },
    {
      "cell_type": "code",
      "source": [
        "FINAL_EVALUATION_MODE=True"
      ],
      "metadata": {
        "id": "pX3I32ed_qpz"
      },
      "execution_count": 10,
      "outputs": []
    },
    {
      "cell_type": "code",
      "source": [
        "######################### NIE ZMIENIAJ TEJ KOMÓRKI PODCZAS WYSYŁANIA ##########################\n",
        "if FINAL_EVALUATION_MODE:\n",
        "    your_solution = YourSolution.create_with_training()\n",
        "    print(f\"Ocena: {score_solution(your_solution)} pkt\")\n",
        "\n",
        "    OUTPUT_PATH = \"file_output\"\n",
        "    FUNCTION_FILENAME = \"your_solution\"\n",
        "    FUNCTION_OUTPUT_PATH = os.path.join(OUTPUT_PATH, FUNCTION_FILENAME)\n",
        "\n",
        "    if not os.path.exists(OUTPUT_PATH):\n",
        "        os.makedirs(OUTPUT_PATH)\n",
        "\n",
        "    with open(\"file_output/your_model.pkl\", \"wb\") as model_out:\n",
        "        cloudpickle.dump(your_solution, model_out)"
      ],
      "metadata": {
        "colab": {
          "base_uri": "https://localhost:8080/"
        },
        "id": "PV3WO2xW7Na_",
        "outputId": "33081f73-05a2-4ea5-85b2-83f8cc9a3340"
      },
      "execution_count": 11,
      "outputs": [
        {
          "output_type": "stream",
          "name": "stdout",
          "text": [
            "Ocena: 81 pkt\n"
          ]
        }
      ]
    }
  ]
}