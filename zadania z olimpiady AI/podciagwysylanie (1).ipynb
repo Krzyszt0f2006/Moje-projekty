{
  "nbformat": 4,
  "nbformat_minor": 0,
  "metadata": {
    "colab": {
      "provenance": [],
      "gpuType": "T4"
    },
    "kernelspec": {
      "name": "python3",
      "display_name": "Python 3"
    },
    "language_info": {
      "name": "python"
    },
    "accelerator": "GPU"
  },
  "cells": [
    {
      "cell_type": "code",
      "execution_count": 2,
      "metadata": {
        "id": "z6v3dCGxT5fV"
      },
      "outputs": [],
      "source": [
        "######################### NIE ZMIENIAJ TEJ KOMÓRKI PODCZAS WYSYŁANIA ##########################\n",
        "\n",
        "FINAL_EVALUATION_MODE = False # Podczas sprawdzania ustawimy tą flagę na True."
      ]
    },
    {
      "cell_type": "code",
      "source": [
        "\n",
        "######################### NIE ZMIENIAJ TEJ KOMÓRKI ##########################\n",
        "\n",
        "import os\n",
        "import gdown\n",
        "import pandas\n",
        "import torch\n",
        "import numpy as np\n",
        "import torch.optim as optim\n",
        "import torch.nn as nn"
      ],
      "metadata": {
        "id": "lSEOUm8tT8U2"
      },
      "execution_count": 3,
      "outputs": []
    },
    {
      "cell_type": "code",
      "source": [
        "######################### NIE ZMIENIAJ TEJ KOMÓRKI ##########################\n",
        "\n",
        "def seed_everything(seed: int) -> None:\n",
        "    \"\"\"\n",
        "    Ustawia ziarno (seed) dla odtwarzalności wyników w Pythonie, NumPy oraz PyTorch.\n",
        "\n",
        "    Funkcja ustawia ziarno dla generatorów liczb losowych Pythonie, NumPy oraz PyTorch,\n",
        "    a także konfiguruje PyTorch do pracy w trybie deterministycznym.\n",
        "\n",
        "    Parametry:\n",
        "        seed (int): Wartość ziarna do ustawienia.\n",
        "    \"\"\"\n",
        "    os.environ[\"PYTHONHASHSEED\"] = str(seed)\n",
        "    np.random.seed(seed)\n",
        "    torch.manual_seed(seed)\n",
        "    torch.backends.cudnn.deterministic = True\n",
        "    torch.backends.cudnn.benchmark = False"
      ],
      "metadata": {
        "id": "mJvYNiUtT-iB"
      },
      "execution_count": 4,
      "outputs": []
    },
    {
      "cell_type": "code",
      "source": [],
      "metadata": {
        "id": "6wROYn5B1QAm"
      },
      "execution_count": 4,
      "outputs": []
    },
    {
      "cell_type": "code",
      "source": [
        "######################### NIE ZMIENIAJ TEJ KOMÓRKI ##########################\n",
        "\n",
        "seed_everything(12345)\n",
        "\n",
        "device = 'cuda'\n",
        "assert torch.cuda.is_available(), \"CUDA niedostępna!\"\n"
      ],
      "metadata": {
        "id": "61LpvQooUA7l"
      },
      "execution_count": 5,
      "outputs": []
    },
    {
      "cell_type": "code",
      "source": [
        "######################## NIE ZMIENIAJ TEJ KOMÓRKI ##########################\n",
        "\n",
        "class CSVDataloader(torch.utils.data.DataLoader):\n",
        "    \"\"\"\n",
        "    Klasa CSVDataloader służy do ładowania danych z plików CSV i zwracania ich w batchach.\n",
        "\n",
        "    Przyjmuje:\n",
        "        csv_file (str): Ścieżka do pliku CSV.\n",
        "        batch_size (int): Rozmiar batcha.\n",
        "        shuffle (bool): Czy tasować dane.\n",
        "    \"\"\"\n",
        "    def __init__(self, csv_file, batch_size=128, shuffle=True):\n",
        "\n",
        "        class CSVDataset(torch.utils.data.Dataset):\n",
        "            \"\"\"\n",
        "            Klasa CSVDataset służy do przechowywania danych z plików CSV jako pojedyncze próbki.\n",
        "            \"\"\"\n",
        "            def __init__(self, csv_file: str):\n",
        "                data = pandas.read_csv(csv_file).values\n",
        "                self.x = torch.tensor(data[:, :-1], dtype=torch.float32)  # Features\n",
        "                self.y = torch.tensor(data[:, -1], dtype=torch.float32)  # Labels\n",
        "\n",
        "            def __len__(self) -> int:\n",
        "                return len(self.x)\n",
        "\n",
        "            def __getitem__(self, idx: int) -> tuple:\n",
        "                return self.x[idx].long(), self.y[idx]\n",
        "\n",
        "        dataset = CSVDataset(csv_file)\n",
        "        self.seq_len = dataset.x.shape[1]\n",
        "        super().__init__(dataset, batch_size=batch_size, shuffle=shuffle)"
      ],
      "metadata": {
        "id": "9V7LXkHDUT5F"
      },
      "execution_count": 6,
      "outputs": []
    },
    {
      "cell_type": "code",
      "source": [
        "######################### NIE ZMIENIAJ TEJ KOMÓRKI ##########################\n",
        "\n",
        "# Inicjalizacja treningowego zbioru danych\n",
        "train_dataset_path = \"train_dataset.csv\"\n",
        "val_dataset_path = \"val_dataset.csv\"\n",
        "\n",
        "if not os.path.exists(train_dataset_path):\n",
        "    url = \"https://drive.google.com/uc?id=1INeYNpPA_YwojuQbMizlsFsERJ-PJX-E\"\n",
        "    gdown.download(url, train_dataset_path, quiet=True)\n",
        "\n",
        "if not os.path.exists(val_dataset_path):\n",
        "    url = \"https://drive.google.com/uc?id=1oQcOMyDWVX0x76LOyp4TcFip1koRuodN\"\n",
        "    gdown.download(url, val_dataset_path, quiet=True)\n",
        "\n",
        "dl = CSVDataloader(\"train_dataset.csv\")\n",
        "val_dl = CSVDataloader(\"val_dataset.csv\")"
      ],
      "metadata": {
        "id": "ZrWijJRLUWPm"
      },
      "execution_count": 7,
      "outputs": []
    },
    {
      "cell_type": "code",
      "source": [
        "######################### NIE ZMIENIAJ TEJ KOMÓRKI ##########################\n",
        "\n",
        "def mse_criterium(\n",
        "        estimations: torch.Tensor,\n",
        "        answers: torch.Tensor\n",
        "    ) -> torch.Tensor:\n",
        "    \"\"\"\n",
        "    Oblicza wartość funkcji błędu średniokwadratowego (MSE) pomiędzy predykcjami a prawdziwymi wartościami.\n",
        "\n",
        "    Parametry:\n",
        "        estimations (torch.Tensor): Predykcje modelu.\n",
        "        answers (torch.Tensor): Prawdziwe wartości.\n",
        "\n",
        "    Zwraca:\n",
        "        torch.Tensor: Wartość funkcji błędu średniokwadratowego.\n",
        "    \"\"\"\n",
        "    return torch.mean((estimations.view(-1) - answers.view(-1)) ** 2)\n",
        "\n",
        "\n",
        "def validate_model(\n",
        "        model: torch.nn.Module,\n",
        "        val_dl: torch.utils.data.DataLoader,\n",
        "    ) -> float:\n",
        "    \"\"\"\n",
        "    Waliduje model na zbiorze walidacyjnym. Zwraca uśrednioną wartość\n",
        "    funkcji błędu średniokwadratowego dla wszystkich próbek.\n",
        "\n",
        "    Parametry:\n",
        "        model (torch.nn.Module): Model do oceny.\n",
        "        val_dl (torch.utils.data.DataLoader): DataLoader z danymi walidacyjnymi.\n",
        "\n",
        "    Zwraca:\n",
        "        float: Uśredniona wartość funkcji błędu średniokwadr\n",
        "    \"\"\"\n",
        "    model = model.eval().to(device)\n",
        "    values = []\n",
        "    for x, y in val_dl:\n",
        "        x = x.to(device)\n",
        "        y = y.to(device)\n",
        "        y_pred = model(x)\n",
        "\n",
        "        mse = mse_criterium(y_pred, y).cpu().item()\n",
        "        values.append(mse)\n",
        "\n",
        "    final_value = torch.tensor(values).mean().item()\n",
        "\n",
        "    return final_value\n",
        "\n",
        "def estimate_points(mse: float) -> int:\n",
        "    \"\"\"\n",
        "    Funkcja wyznaczająca ilość punktów za zadanie na podstawie wartości funkcji błędu średniokwadratowego.\n",
        "\n",
        "    Parametry:\n",
        "        mse (float): Wartość funkcji błędu średniokwadratowego.\n",
        "\n",
        "    Zwraca:\n",
        "        int: Ilość punktów za zadanie (0 - 100).\n",
        "    \"\"\"\n",
        "    points = max((100 * (64 - mse)) / 64, 0)\n",
        "    return int(round(points))"
      ],
      "metadata": {
        "id": "P9MMm6aAUdva"
      },
      "execution_count": 8,
      "outputs": []
    },
    {
      "cell_type": "code",
      "source": [
        "######################### NIE ZMIENIAJ TEJ KOMÓRKI ##########################\n",
        "\n",
        "class MLP(nn.Module):\n",
        "    \"\"\"\n",
        "    Klasa reprezentująca model sieci MLP z czterema ukrytymi warstwami.\n",
        "\n",
        "    Parametry:\n",
        "        input_length (int): Długość wejścia sieci (długość sekwencji).\n",
        "    \"\"\"\n",
        "    def __init__(self, input_length: int):\n",
        "        super(MLP, self).__init__()\n",
        "        neurons_num = [256, 128, 64, 32]\n",
        "\n",
        "        self.fc_layers = nn.Sequential(\n",
        "            nn.Linear(input_length, neurons_num[0]),\n",
        "            nn.ReLU(),\n",
        "            nn.Linear(neurons_num[0], neurons_num[1]),\n",
        "            nn.ReLU(),\n",
        "            nn.Linear(neurons_num[1], neurons_num[2]),\n",
        "            nn.ReLU(),\n",
        "            nn.Linear(neurons_num[2], neurons_num[3]),\n",
        "            nn.ReLU(),\n",
        "            nn.Linear(neurons_num[3], 1),\n",
        "        )\n",
        "\n",
        "        print(\"Liczba parametrów:\", sum(p.numel() for p in self.parameters()))\n",
        "\n",
        "    def forward(self, x: torch.Tensor) -> torch.Tensor:\n",
        "        \"\"\"\n",
        "        Funkcja przyjmująca sekwencje danych i zwracająca predykcje ich wartości za pomocą sieci MLP.\n",
        "\n",
        "        Parametry:\n",
        "            x (torch.Tensor): Sekwencja danych.\n",
        "\n",
        "        Zwraca:\n",
        "            torch.Tensor: Predykcje wartości sekwencji.\n",
        "        \"\"\"\n",
        "        x = x.float()\n",
        "        x = self.fc_layers(x)\n",
        "        return x"
      ],
      "metadata": {
        "id": "-fxoxs3xcdjr"
      },
      "execution_count": 9,
      "outputs": []
    },
    {
      "cell_type": "code",
      "source": [
        "######################### NIE ZMIENIAJ TEJ KOMÓRKI ##########################\n",
        "\n",
        "if not FINAL_EVALUATION_MODE:\n",
        "\tmodel = MLP(dl.seq_len).to(device)\n",
        "\n",
        "\toptimizer = optim.Adam(model.parameters(), lr=0.005)\n",
        "\tcriterion = nn.MSELoss()\n",
        "\n",
        "\tmodel.train()\n",
        "\tfor batch in iter(dl): # pojedyncze przeiterowanie dl - 4000 batchy\n",
        "\t\tinputs, targets = batch\n",
        "\t\tinputs, targets = inputs.to(device).long(), targets.to(device).float().unsqueeze(1)\n",
        "\n",
        "\t\toptimizer.zero_grad()\n",
        "\t\toutputs = model(inputs)\n",
        "\n",
        "\t\tloss = criterion(outputs, targets)\n",
        "\t\tloss.backward()\n",
        "\t\toptimizer.step()"
      ],
      "metadata": {
        "id": "eiSxGWKLcinO",
        "colab": {
          "base_uri": "https://localhost:8080/"
        },
        "outputId": "a5ec2d22-f8c9-4585-acf7-2e12372cb2ac"
      },
      "execution_count": 10,
      "outputs": [
        {
          "output_type": "stream",
          "name": "stdout",
          "text": [
            "Liczba parametrów: 49665\n"
          ]
        }
      ]
    },
    {
      "cell_type": "code",
      "source": [
        "######################### NIE ZMIENIAJ TEJ KOMÓRKI ##########################\n",
        "\n",
        "# walidacja przykładowego rozwiązania\n",
        "if not FINAL_EVALUATION_MODE:\n",
        "    score = validate_model(model, val_dl)\n",
        "    print(f\"Błąd średniokwadratowy: {score:.2f}\")"
      ],
      "metadata": {
        "id": "Hj4gZvUvxGu9",
        "colab": {
          "base_uri": "https://localhost:8080/"
        },
        "outputId": "966a06a8-d42e-43e2-ac2a-459659d59dde"
      },
      "execution_count": 11,
      "outputs": [
        {
          "output_type": "stream",
          "name": "stdout",
          "text": [
            "Błąd średniokwadratowy: 109.82\n"
          ]
        }
      ]
    },
    {
      "cell_type": "code",
      "source": [
        "# przykładowy model, który możesz modyfikować\n",
        "class YourModel(nn.Module):\n",
        "    def __init__(self, input_length):\n",
        "        super(YourModel, self).__init__()\n",
        "        hidden_size = 33\n",
        "        #hidden_size = 50\n",
        "        num_layers = 2\n",
        "        #num_layers = 3\n",
        "        self.rnn = nn.LSTM(input_size=1, hidden_size=hidden_size, num_layers=num_layers, batch_first=True)\n",
        "        self.fc = nn.Linear(hidden_size, 1)\n",
        "        total_params = sum(p.numel() for p in self.parameters())\n",
        "        #print(f\"Liczba parametrów modelu: {total_params}\")\n",
        "    def forward(self, x):\n",
        "        x = x.float()\n",
        "        x, _ = self.rnn(x.unsqueeze(-1))\n",
        "        x = self.fc(x[:, -1, :])\n",
        "        return x\n",
        "your_model = YourModel(dl.seq_len).to(device)\n",
        "optimizer = optim.Adam(your_model.parameters(), lr=0.005)\n",
        "scheduler = optim.lr_scheduler.StepLR(optimizer, step_size=1000, gamma=0.5)\n",
        "criterion = nn.MSELoss()\n",
        "best_loss = float(\"inf\")\n",
        "best_model_state = None\n",
        "your_model.train()\n",
        "total_loss = 0.0\n",
        "for i, batch in enumerate(dl):\n",
        "    inputs, targets = batch\n",
        "    inputs, targets = inputs.to(device).float(), targets.to(device).float().unsqueeze(1)\n",
        "    outputs = your_model(inputs)\n",
        "    loss = criterion(outputs, targets)\n",
        "    optimizer.zero_grad()\n",
        "    loss.backward()\n",
        "    torch.nn.utils.clip_grad_norm_(your_model.parameters(), max_norm=1.0)\n",
        "    optimizer.step()\n",
        "    total_loss += loss.item()\n",
        "    if (i + 1) % 500 == 0:\n",
        "        avg_loss = total_loss / (i + 1)\n",
        "    if (i + 1) % 1000 == 0:\n",
        "        scheduler.step()\n",
        "    if loss.item() < best_loss:\n",
        "        best_loss = loss.item()\n",
        "        best_model_state = your_model.state_dict()\n",
        "if best_model_state:\n",
        "    your_model.load_state_dict(best_model_state)"
      ],
      "metadata": {
        "id": "XmgvYU3jf1bU"
      },
      "execution_count": 12,
      "outputs": []
    },
    {
      "cell_type": "code",
      "source": [
        "# ######################### NIE ZMIENIAJ TEJ KOMÓRKI ##########################\n",
        "\n",
        "if not FINAL_EVALUATION_MODE:\n",
        "    assert sum(p.numel() for p in your_model.parameters()) < 50000, \"Model posiada za dużo parametrów\"\n",
        "\n",
        "    mse = validate_model(your_model, val_dl)\n",
        "    score = estimate_points(mse)\n",
        "\n",
        "    print(f\"Błąd średniokwadratowy: {mse:.2f}\")\n",
        "    print(f\"Estymowane punkty za zadanie: {score}\")"
      ],
      "metadata": {
        "colab": {
          "base_uri": "https://localhost:8080/"
        },
        "id": "TpkRa9TDegEN",
        "outputId": "edab3070-7466-4f63-e195-59416d107915"
      },
      "execution_count": 13,
      "outputs": [
        {
          "output_type": "stream",
          "name": "stdout",
          "text": [
            "Błąd średniokwadratowy: 6.91\n",
            "Estymowane punkty za zadanie: 89\n"
          ]
        }
      ]
    },
    {
      "cell_type": "code",
      "source": [
        "######################### NIE ZMIENIAJ TEJ KOMÓRKI ##########################\n",
        "\n",
        "if FINAL_EVALUATION_MODE:\n",
        "    import cloudpickle\n",
        "\n",
        "    OUTPUT_PATH = \"file_output\"\n",
        "    FUNCTION_FILENAME = \"your_model.pkl\"\n",
        "    FUNCTION_OUTPUT_PATH = os.path.join(OUTPUT_PATH, FUNCTION_FILENAME)\n",
        "\n",
        "    if not os.path.exists(OUTPUT_PATH):\n",
        "        os.makedirs(OUTPUT_PATH)\n",
        "\n",
        "    your_model = your_model.eval()\n",
        "\n",
        "    with open(FUNCTION_OUTPUT_PATH, \"wb\") as f:\n",
        "        cloudpickle.dump(your_model, f)"
      ],
      "metadata": {
        "id": "K-3KLMaY5zwH"
      },
      "execution_count": 14,
      "outputs": []
    }
  ]
}