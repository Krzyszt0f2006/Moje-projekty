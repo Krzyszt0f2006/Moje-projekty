{
  "nbformat": 4,
  "nbformat_minor": 0,
  "metadata": {
    "colab": {
      "provenance": [],
      "gpuType": "T4"
    },
    "kernelspec": {
      "name": "python3",
      "display_name": "Python 3"
    },
    "language_info": {
      "name": "python"
    },
    "accelerator": "GPU"
  },
  "cells": [
    {
      "cell_type": "code",
      "execution_count": null,
      "metadata": {
        "id": "eDJLJ0ozVmW9"
      },
      "outputs": [],
      "source": [
        "# W czasie sprawdzania Twojego rozwiązania, wartość flagi FINAL_EVALUATION_MODE zostanie zmieniona na True\n",
        "FINAL_EVALUATION_MODE = False"
      ]
    },
    {
      "cell_type": "code",
      "source": [
        "######################### NIE ZMIENIAJ TEJ KOMÓRKI ##########################\n",
        "import os\n",
        "from tqdm import tqdm\n",
        "from typing import Optional, Tuple, List\n",
        "\n",
        "import zipfile\n",
        "\n",
        "import numpy as np\n",
        "import pandas as pd\n",
        "import matplotlib.pyplot as plt\n",
        "\n",
        "from PIL import Image\n",
        "\n",
        "import torch\n",
        "import torch.nn as nn\n",
        "from torch.optim import AdamW\n",
        "from torch.utils.data import DataLoader\n",
        "\n",
        "import torchvision.transforms as transforms\n",
        "from torchvision.datasets.folder import VisionDataset\n",
        "\n",
        "from sklearn.metrics import balanced_accuracy_score"
      ],
      "metadata": {
        "id": "SlitzrmnVqBR"
      },
      "execution_count": null,
      "outputs": []
    },
    {
      "cell_type": "code",
      "source": [
        "######################### NIE ZMIENIAJ TEJ KOMÓRKI ##########################\n",
        "SEED = 123\n",
        "IMAGES_DIR = \"data\"\n",
        "TASK_DATASET_LABELS_FILE = \"dataset_labels.csv\"\n",
        "\n",
        "ROOT_DIR = os.getcwd()\n",
        "TRAIN_DATASET_PATH = os.path.join(ROOT_DIR,'train')\n",
        "VAL_DATASET_PATH = os.path.join(ROOT_DIR, 'val')\n",
        "\n",
        "TRAIN_DATASET_URL = \"1qmNNmDv-wUcAv5mvO6vYJV3mQ2SNIGnI\"\n",
        "VAL_DATASET_URL = \"1YUJYD12NmKRSzFJGMrX-a61d6mnTaWbG\""
      ],
      "metadata": {
        "id": "Is5Y2DI1VqMy"
      },
      "execution_count": null,
      "outputs": []
    },
    {
      "cell_type": "code",
      "source": [
        "######################### NIE ZMIENIAJ TEJ KOMÓRKI ##########################\n",
        "DEVICE = torch.device(\"cuda\" if torch.cuda.is_available() else \"cpu\")\n",
        "LEARNING_RATE = 1e-2\n",
        "NUM_EPOCHS = 6\n",
        "NUM_CLASSES = 2\n",
        "BATCH_SIZE = 128\n",
        "WEIGHT_DECAY = 1e-3\n",
        "\n",
        "if not FINAL_EVALUATION_MODE:\n",
        "  print(f\"Using {DEVICE} device\")"
      ],
      "metadata": {
        "id": "hsu51jfnVqSG",
        "colab": {
          "base_uri": "https://localhost:8080/"
        },
        "outputId": "3a1f3795-8549-409b-c44a-72597b028ac1"
      },
      "execution_count": null,
      "outputs": [
        {
          "output_type": "stream",
          "name": "stdout",
          "text": [
            "Using cuda device\n"
          ]
        }
      ]
    },
    {
      "cell_type": "code",
      "source": [
        "######################### NIE ZMIENIAJ TEJ KOMÓRKI ##########################\n",
        "def seed_everything(seed: int) -> None:\n",
        "    \"\"\"\n",
        "    Ustawia ziarno (seed) dla odtwarzalności wyników w Pythonie, NumPy oraz PyTorch.\n",
        "\n",
        "    Funkcja ustawia ziarno dla generatorów liczb losowych Pythonie, NumPy oraz PyTorch,\n",
        "    a także konfiguruje PyTorch do pracy w trybie deterministycznym.\n",
        "\n",
        "    Parametry:\n",
        "        seed (int): Wartość ziarna do ustawienia.\n",
        "    \"\"\"\n",
        "    os.environ[\"PYTHONHASHSEED\"] = str(seed)\n",
        "    np.random.seed(seed)\n",
        "    torch.manual_seed(seed)\n",
        "    torch.backends.cudnn.deterministic = True\n",
        "    torch.backends.cudnn.benchmark = False"
      ],
      "metadata": {
        "id": "LBvlgGLtVqVM"
      },
      "execution_count": null,
      "outputs": []
    },
    {
      "cell_type": "code",
      "source": [
        "######################### NIE ZMIENIAJ TEJ KOMÓRKI ##########################\n",
        "def download_data(dataset_path, dataset_url):\n",
        "    \"\"\"Pobiera zbiór danych z Google Drive Olimpiady i zapisuje go w folderze.\"\"\"\n",
        "    import gdown\n",
        "    import shutil\n",
        "\n",
        "    # Utwórz lub zresetuj folder\n",
        "    output = dataset_path+\".zip\"\n",
        "    if os.path.exists(dataset_path):\n",
        "        shutil.rmtree(dataset_path)\n",
        "    if os.path.exists(output):\n",
        "        os.remove(output)\n",
        "\n",
        "    url = f'https://drive.google.com/uc?id={dataset_url}'\n",
        "    gdown.download(url, output, fuzzy=True)\n",
        "\n",
        "    print(f\"Downloaded: {output}\")\n",
        "\n",
        "# Pobierz dane tylko jeśli nie jesteś w trybie FINAL_EVALUATION_MODE\n",
        "if not FINAL_EVALUATION_MODE:\n",
        "    download_data(TRAIN_DATASET_PATH, TRAIN_DATASET_URL)\n",
        "    download_data(VAL_DATASET_PATH, VAL_DATASET_URL)"
      ],
      "metadata": {
        "id": "V8dkn4SNVzhJ",
        "colab": {
          "base_uri": "https://localhost:8080/"
        },
        "outputId": "b62186dd-bbc0-437e-c8c3-cdf276959546"
      },
      "execution_count": null,
      "outputs": [
        {
          "output_type": "stream",
          "name": "stderr",
          "text": [
            "Downloading...\n",
            "From (original): https://drive.google.com/uc?id=1qmNNmDv-wUcAv5mvO6vYJV3mQ2SNIGnI\n",
            "From (redirected): https://drive.google.com/uc?id=1qmNNmDv-wUcAv5mvO6vYJV3mQ2SNIGnI&confirm=t&uuid=6d1fcede-97a5-43eb-b523-d9fa2a63852b\n",
            "To: /content/train.zip\n",
            "100%|██████████| 11.9M/11.9M [00:01<00:00, 10.1MB/s]\n"
          ]
        },
        {
          "output_type": "stream",
          "name": "stdout",
          "text": [
            "Downloaded: /content/train.zip\n"
          ]
        },
        {
          "output_type": "stream",
          "name": "stderr",
          "text": [
            "Downloading...\n",
            "From: https://drive.google.com/uc?id=1YUJYD12NmKRSzFJGMrX-a61d6mnTaWbG\n",
            "To: /content/val.zip\n",
            "100%|██████████| 1.19M/1.19M [00:00<00:00, 162MB/s]"
          ]
        },
        {
          "output_type": "stream",
          "name": "stdout",
          "text": [
            "Downloaded: /content/val.zip\n"
          ]
        },
        {
          "output_type": "stream",
          "name": "stderr",
          "text": [
            "\n"
          ]
        }
      ]
    },
    {
      "cell_type": "code",
      "source": [
        "######################### NIE ZMIENIAJ TEJ KOMÓRKI ##########################\n",
        "\n",
        "# Klasa zbioru danych\n",
        "class TaskDataset(VisionDataset):\n",
        "    def __init__(\n",
        "        self,\n",
        "        root: str,\n",
        "        transform: Optional[callable] = None,\n",
        "    ):\n",
        "        super().__init__(\n",
        "            root,\n",
        "            transform=transform,\n",
        "        )\n",
        "        self.root = root\n",
        "\n",
        "        if not self._check_integrity():\n",
        "            raise RuntimeError(\n",
        "                f\"Nie znaleziono zbioru danych. Sprawdź czy ścieżka {self.root} istnieje. Powinna ona zwierać folder '{IMAGES_DIR}' i plik '{TASK_DATASET_LABELS_FILE}' file\"\n",
        "            )\n",
        "        self.labels_df = self._read_labels_from_file()\n",
        "        self.labels_header = 'label'\n",
        "\n",
        "    def _read_labels_from_file(self) -> pd.DataFrame:\n",
        "        df = pd.read_csv(os.path.join(self.root, TASK_DATASET_LABELS_FILE))\n",
        "        return df\n",
        "\n",
        "    def _check_integrity(self) -> bool:\n",
        "        return os.path.exists(os.path.join(self.root, IMAGES_DIR)) and os.path.exists(\n",
        "            os.path.join(self.root, TASK_DATASET_LABELS_FILE)\n",
        "        )\n",
        "\n",
        "    def __len__(self) -> int:\n",
        "        return len(self.labels_df)\n",
        "\n",
        "    def __getitem__(self, idx: int) -> Tuple[Image.Image, np.ndarray]:\n",
        "        img = self._load_image(idx)\n",
        "        label = self._load_label(idx)\n",
        "        if self.transform is not None:\n",
        "            img = self.transform(img)\n",
        "        return img, label\n",
        "\n",
        "    def _load_image(self, idx: int) -> Image.Image:\n",
        "        img_path = os.path.join(\n",
        "            self.root, IMAGES_DIR, self.labels_df.iloc[idx]['file_name']\n",
        "        )\n",
        "        img = Image.open(img_path)\n",
        "        return img\n",
        "\n",
        "    def _load_label(self, idx: int):\n",
        "        label = self.labels_df.iloc[idx][self.labels_header]\n",
        "        return np.array([int(label)])"
      ],
      "metadata": {
        "id": "JdbeUY2EVzm_"
      },
      "execution_count": null,
      "outputs": []
    },
    {
      "cell_type": "code",
      "source": [
        "######################### NIE ZMIENIAJ TEJ KOMÓRKI ##########################\n",
        "def unpack_data(unpack_path, dataset_name) -> None:\n",
        "    dataset_zip_path = os.path.join(ROOT_DIR, dataset_name+\".zip\")\n",
        "    dataset_local_dir = os.path.join(unpack_path, dataset_name)\n",
        "    if not os.path.exists(dataset_local_dir):\n",
        "        if not os.path.exists(dataset_zip_path):\n",
        "            raise FileNotFoundError(\n",
        "                f\"Nie znaleziono pliku {dataset_zip_path} w bieżącym folderze.\"\n",
        "            )\n",
        "\n",
        "        with zipfile.ZipFile(dataset_zip_path, \"r\") as zip_ref:\n",
        "            zip_ref.extractall(unpack_path)"
      ],
      "metadata": {
        "id": "GDEe4yA1V4Zz"
      },
      "execution_count": null,
      "outputs": []
    },
    {
      "cell_type": "code",
      "source": [
        "######################### NIE ZMIENIAJ TEJ KOMÓRKI ##########################\n",
        "# Funkcja ładująca dane treningowe i walidacyjne\n",
        "def load_data() -> Tuple[DataLoader, DataLoader]:\n",
        "    \"\"\"\n",
        "    Funkcja ładująca dane treningowe i walidacyjne przy użyciu klasy TaskDataset.\n",
        "\n",
        "    Funkcja tworzy zbiory danych dla danych treningowych oraz walidacyjnych,\n",
        "    stosuje podstawową transformację (konwersję do tensora), a następnie\n",
        "    opakowuje je w obiekty DataLoader.\n",
        "\n",
        "    Zwraca:\n",
        "        Tuple[DataLoader, DataLoader]: Obiekty DataLoader dla zbioru treningowego oraz walidacyjnego.\n",
        "    \"\"\"\n",
        "    base_transform = transforms.Compose([transforms.ToTensor()])\n",
        "\n",
        "    train_dataset = TaskDataset(root=TRAIN_DATASET_PATH, transform=base_transform)\n",
        "    val_dataset = TaskDataset(root=VAL_DATASET_PATH, transform=base_transform)\n",
        "\n",
        "    train_loader = DataLoader(\n",
        "        dataset=train_dataset, batch_size=BATCH_SIZE, shuffle=False\n",
        "    )\n",
        "    val_loader = DataLoader(dataset=val_dataset, batch_size=BATCH_SIZE, shuffle=False)\n",
        "\n",
        "    return train_loader, val_loader"
      ],
      "metadata": {
        "id": "MIkr6hXlV4hx"
      },
      "execution_count": null,
      "outputs": []
    },
    {
      "cell_type": "code",
      "source": [
        "######################### NIE ZMIENIAJ TEJ KOMÓRKI ##########################\n",
        "# Rozpakujmy i załadujmy dane\n",
        "if not FINAL_EVALUATION_MODE:\n",
        "    unpack_data(ROOT_DIR, \"train\")\n",
        "    unpack_data(ROOT_DIR, \"val\")\n",
        "    train_loader, val_loader = load_data()"
      ],
      "metadata": {
        "id": "xUTrB5WlVzr3"
      },
      "execution_count": null,
      "outputs": []
    },
    {
      "cell_type": "code",
      "source": [
        "######################### NIE ZMIENIAJ TEJ KOMÓRKI ##########################\n",
        "class SmallMobileNet(nn.Module):\n",
        "    def __init__(self, num_classes=NUM_CLASSES):\n",
        "        super(SmallMobileNet, self).__init__()\n",
        "\n",
        "        # Główne bloki konwolucyjne\n",
        "        self.features = nn.Sequential(\n",
        "            nn.Conv2d(1, 32, kernel_size=3, stride=1, padding=1, bias=False),\n",
        "            nn.BatchNorm2d(32),\n",
        "            nn.ReLU6(inplace=True),\n",
        "            nn.Conv2d(\n",
        "                32, 32, kernel_size=3, stride=1, padding=1, groups=32, bias=False\n",
        "            ),\n",
        "            nn.BatchNorm2d(32),\n",
        "            nn.ReLU6(inplace=True),\n",
        "            nn.Conv2d(32, 64, kernel_size=1, stride=1, bias=False),\n",
        "            nn.BatchNorm2d(64),\n",
        "            nn.ReLU6(inplace=True),\n",
        "            nn.Conv2d(\n",
        "                64, 64, kernel_size=3, stride=2, padding=1, groups=64, bias=False\n",
        "            ),\n",
        "            nn.BatchNorm2d(64),\n",
        "            nn.ReLU6(inplace=True),\n",
        "            nn.Conv2d(64, 128, kernel_size=1, stride=1, bias=False),\n",
        "            nn.BatchNorm2d(128),\n",
        "            nn.ReLU6(inplace=True),\n",
        "            nn.Conv2d(\n",
        "                128, 128, kernel_size=3, stride=2, padding=1, groups=128, bias=False\n",
        "            ),\n",
        "            nn.BatchNorm2d(128),\n",
        "            nn.ReLU6(inplace=True),\n",
        "            nn.Conv2d(128, 256, kernel_size=1, stride=1, bias=False),\n",
        "            nn.BatchNorm2d(256),\n",
        "            nn.ReLU6(inplace=True),\n",
        "        )\n",
        "\n",
        "        self.pool = nn.AdaptiveAvgPool2d(1)\n",
        "\n",
        "        self.classifier = nn.Sequential(\n",
        "            nn.Linear(256, 128),\n",
        "            nn.ReLU6(inplace=True),\n",
        "            nn.Dropout(0.5),\n",
        "            nn.Linear(128, num_classes),\n",
        "        )\n",
        "\n",
        "    def forward(self, x):\n",
        "        x = self.features(x)\n",
        "        x = self.pool(x)\n",
        "        x = torch.flatten(x, 1)\n",
        "        x = self.classifier(x)\n",
        "        return x"
      ],
      "metadata": {
        "id": "9yfgVw30V846"
      },
      "execution_count": null,
      "outputs": []
    },
    {
      "cell_type": "code",
      "source": [
        "######################### NIE ZMIENIAJ TEJ KOMÓRKI ##########################\n",
        "def predict_and_evaluate(model, val_loader, device, verbose=False):\n",
        "    model.eval()\n",
        "    all_preds, all_targets = [], []\n",
        "\n",
        "    with torch.no_grad():\n",
        "        for inputs, targets in val_loader:\n",
        "            inputs, targets = inputs.to(device), targets.to(device)\n",
        "            outputs = model(inputs)\n",
        "            preds = torch.argmax(outputs, dim=1)\n",
        "\n",
        "            all_preds.extend(preds.cpu().numpy())\n",
        "            all_targets.extend(targets.cpu().numpy())\n",
        "\n",
        "    balanced_accuracy = balanced_accuracy_score(all_targets, all_preds)\n",
        "\n",
        "    if verbose:\n",
        "        print(f\"Balanced Accuracy: {balanced_accuracy}\")\n",
        "\n",
        "    return balanced_accuracy"
      ],
      "metadata": {
        "id": "LfcylthNV8-2"
      },
      "execution_count": null,
      "outputs": []
    },
    {
      "cell_type": "code",
      "source": [
        "######################### NIE ZMIENIAJ TEJ KOMÓRKI ##########################\n",
        "def performance(bac_1: float, bac_2: float) -> None:\n",
        "    \"\"\"\n",
        "    Oblicza i wypisuje wynik wydajności na podstawie dwóch wartości balanced accuracy.\n",
        "\n",
        "    Ostateczny wynik to średnia z obu wartości, przeskalowana między ustalonymi granicami,\n",
        "    co przekłada się na liczbę zdobytych punktów.\n",
        "\n",
        "    Parametry:\n",
        "        bac_1 (float): Wartość balanced accuracy dla pierwszego modelu.\n",
        "        bac_2 (float): Wartość balanced accuracy dla drugiego modelu.\n",
        "    \"\"\"\n",
        "    bac_mean = (bac_1 + bac_2) / 2\n",
        "    if bac_mean <= 0.5:\n",
        "        points = 0\n",
        "    elif 0.5 < bac_mean < 0.8:\n",
        "        points = (bac_mean - 0.5) / (0.8 - 0.5) * 100\n",
        "        points = int(round(points))\n",
        "    else:\n",
        "        points = 100\n",
        "\n",
        "    print(\n",
        "        f\"Twoje rozwiązanie ma średnią wartość balanced accuracy równą {round(bac_mean, 5)} na zbiorze walidacyjnym, co daje {points}/100 punktów.\"\n",
        "    )\n",
        "    return points"
      ],
      "metadata": {
        "id": "fqf7lEJpV9B8"
      },
      "execution_count": null,
      "outputs": []
    },
    {
      "cell_type": "code",
      "source": [
        "######################### NIE ZMIENIAJ TEJ KOMÓRKI ##########################\n",
        "\n",
        "\n",
        "# Funkcja do trenowania modelu\n",
        "def train(\n",
        "    model1,\n",
        "    model2,\n",
        "    optimizer1,\n",
        "    optimizer2,\n",
        "    criterion,\n",
        "    train_loader,\n",
        "    val_loader,\n",
        "    num_epochs,\n",
        "    device,\n",
        "    select_indices_fn,\n",
        "):\n",
        "\n",
        "    verbose = False if FINAL_EVALUATION_MODE else True\n",
        "\n",
        "    # Historia metryk dla każdego modelu\n",
        "    metrics = {\n",
        "        k: [[], []]\n",
        "        for k in [\n",
        "            \"train_loss\",\n",
        "            \"val_loss\",\n",
        "            \"train_bac\",\n",
        "            \"val_bac\",\n",
        "        ]\n",
        "    }\n",
        "    epochs_range = np.arange(num_epochs) + 1\n",
        "\n",
        "    # Główna pętla treningowa\n",
        "    for epoch in epochs_range:\n",
        "        print(f\"Epoch {epoch}\")\n",
        "\n",
        "        # Historia statystyk dla każdego modelu\n",
        "        stats = {\n",
        "            k: [0, 0] for k in [\"train_loss\", \"train_total\", \"val_loss\", \"val_total\"]\n",
        "        }\n",
        "        preds_targets = {\n",
        "            k: [[], []]\n",
        "            for k in [\"train_preds\", \"train_targets\", \"val_preds\", \"val_targets\"]\n",
        "        }\n",
        "\n",
        "        model1.train(), model2.train()\n",
        "        for inputs, targets in tqdm(train_loader, desc=f\"Epoch {epoch}/{num_epochs}\"):\n",
        "            inputs, targets = inputs.to(device), targets.squeeze().long().to(device)\n",
        "\n",
        "            outputs = [m(inputs) for m in (model1, model2)]\n",
        "            losses = [criterion(out, targets) for out in outputs]\n",
        "\n",
        "            # --- GŁÓWNY PUNKT ZADANIA ---\n",
        "            selected_indices = select_indices_fn(targets, losses)\n",
        "            # ---------------------------\n",
        "\n",
        "            # Propagacja wsteczna dla każdego modelu\n",
        "            for i, (model, optim) in enumerate(\n",
        "                [(model1, optimizer1), (model2, optimizer2)]\n",
        "            ):\n",
        "                optim.zero_grad()\n",
        "                sel_idx = selected_indices[i]\n",
        "                loss = criterion(model(inputs[sel_idx]), targets[sel_idx]).mean()\n",
        "\n",
        "                loss.backward()\n",
        "                optim.step()\n",
        "\n",
        "                # Historia statystyk\n",
        "                stats[\"train_loss\"][i] += loss.item() * len(sel_idx)\n",
        "                stats[\"train_total\"][i] += len(sel_idx)\n",
        "                preds = outputs[i].max(1)[1]\n",
        "                preds_targets[\"train_preds\"][i].extend(preds[sel_idx].cpu().numpy())\n",
        "                preds_targets[\"train_targets\"][i].extend(targets[sel_idx].cpu().numpy())\n",
        "\n",
        "        # Ewaluacja na zbiorze walidacyjnym\n",
        "        if verbose:\n",
        "            model1.eval(), model2.eval()\n",
        "            with torch.no_grad():\n",
        "                for inputs, targets in tqdm(\n",
        "                    val_loader, desc=f\"Validation {epoch}/{num_epochs}\"\n",
        "                ):\n",
        "                    inputs, targets = inputs.to(device), targets.squeeze().long().to(\n",
        "                        device\n",
        "                    )\n",
        "\n",
        "                    for i, model in enumerate([model1, model2]):\n",
        "                        outputs = model(inputs)\n",
        "                        loss = criterion(outputs, targets).mean()\n",
        "                        preds = outputs.max(1)[1]\n",
        "\n",
        "                        stats[\"val_loss\"][i] += loss.item() * inputs.size(0)\n",
        "                        stats[\"val_total\"][i] += inputs.size(0)\n",
        "                        preds = outputs.max(1)[1]\n",
        "                        preds_targets[\"val_preds\"][i].extend(preds.cpu().numpy())\n",
        "                        preds_targets[\"val_targets\"][i].extend(targets.cpu().numpy())\n",
        "\n",
        "        # Obliczanie metryk\n",
        "        if verbose:\n",
        "            models = [model1, model2]\n",
        "            for i in range(2):\n",
        "                for phase in [\"train\", \"val\"]:\n",
        "                    preds = preds_targets[f\"{phase}_preds\"][i]\n",
        "                    targets = preds_targets[f\"{phase}_targets\"][i]\n",
        "\n",
        "                    metrics[f\"{phase}_loss\"][i].append(\n",
        "                        stats[f\"{phase}_loss\"][i] / stats[f\"{phase}_total\"][i]\n",
        "                    )\n",
        "                    metrics[f\"{phase}_bac\"][i].append(\n",
        "                        balanced_accuracy_score(targets, preds)\n",
        "                    )\n",
        "\n",
        "                print(\n",
        "                    f\"Model{i+1} - Train Loss: {metrics['train_loss'][i][-1]:.4f}, \"\n",
        "                    f\"Train balanced accuracy: {metrics['train_bac'][i][-1]:.4f} --- \"\n",
        "                    f\"Validation Loss: {metrics['val_loss'][i][-1]:.4f}, \"\n",
        "                    f\"Validation balanced accuracy: {metrics['val_bac'][i][-1]:.4f}, \"\n",
        "                )\n",
        "\n",
        "    # Generowanie wykresów\n",
        "    if verbose:\n",
        "        fig, (ax1, ax2) = plt.subplots(1, 2, figsize=(14, 6))\n",
        "        colors = [\"#fa2729\", \"#ac1a1c\", \"#1a6aff\", \"#144aad\"]\n",
        "        linestyles = [\"-\", \"--\"]\n",
        "\n",
        "        for i, model_name in enumerate([\"Model1\", \"Model2\"]):\n",
        "            for j, phase in enumerate([\"train\", \"val\"]):\n",
        "\n",
        "                color = colors[i * 2 + j]\n",
        "                ax1.plot(\n",
        "                    epochs_range,\n",
        "                    metrics[f\"{phase}_loss\"][i],\n",
        "                    color=color,\n",
        "                    marker=\"o\",\n",
        "                    linestyle=linestyles[j],\n",
        "                    label=f\"{model_name} {phase.title()} Loss\",\n",
        "                )\n",
        "                ax2.plot(\n",
        "                    epochs_range,\n",
        "                    metrics[f\"{phase}_bac\"][i],\n",
        "                    color=color,\n",
        "                    marker=\"o\",\n",
        "                    linestyle=linestyles[j],\n",
        "                    label=f\"{model_name} {phase.title()} balanced accuracy\",\n",
        "                )\n",
        "\n",
        "        for ax, title in zip([ax1, ax2], [\"Loss\", \"Balanced accuracy\"]):\n",
        "            ax.set_title(f\"Training and Validation {title}\")\n",
        "            ax.set_xticks(epochs_range)\n",
        "            ax.set_xlabel(\"Epochs\")\n",
        "            ax.set_ylabel(title)\n",
        "            ax.legend()\n",
        "\n",
        "        plt.tight_layout()\n",
        "        plt.show()"
      ],
      "metadata": {
        "id": "rnFctaF7WDJj"
      },
      "execution_count": null,
      "outputs": []
    },
    {
      "cell_type": "code",
      "source": [
        "######################### NIE ZMIENIAJ TEJ KOMÓRKI ##########################\n",
        "def default_select_indices(targets, losses):\n",
        "    # Wszystkie indeksy dla obu modeli\n",
        "    selected_indices = [torch.arange(targets.shape[0]).to(DEVICE) for _ in range(2)]\n",
        "    return selected_indices"
      ],
      "metadata": {
        "id": "Hn5cHj8lWDMf"
      },
      "execution_count": null,
      "outputs": []
    },
    {
      "cell_type": "code",
      "source": [
        "######################### NIE ZMIENIAJ TEJ KOMÓRKI ##########################\n",
        "# WAŻNE: Trenujemy zawsze dwa modele i ewaluujemy\n",
        "\n",
        "if not not  FINAL_EVALUATION_MODE:\n",
        "    seed_everything(SEED)\n",
        "    criterion = nn.CrossEntropyLoss(reduction=\"none\")\n",
        "\n",
        "    model1 = SmallMobileNet(NUM_CLASSES).to(DEVICE)\n",
        "    model2 = SmallMobileNet(NUM_CLASSES).to(DEVICE)\n",
        "\n",
        "    optimizer1 = AdamW(model1.parameters(), lr=LEARNING_RATE, weight_decay=WEIGHT_DECAY)\n",
        "    optimizer2 = AdamW(model2.parameters(), lr=LEARNING_RATE, weight_decay=WEIGHT_DECAY)\n",
        "\n",
        "    seed_everything(SEED)\n",
        "    train(\n",
        "        model1,\n",
        "        model2,\n",
        "        optimizer1,\n",
        "        optimizer2,\n",
        "        criterion,\n",
        "        train_loader,\n",
        "        val_loader,\n",
        "        NUM_EPOCHS,\n",
        "        DEVICE,\n",
        "        select_indices_fn=default_select_indices,\n",
        "    )\n",
        "\n",
        "    # Ewaluacja przykładowego rozwiązania\n",
        "    bac_1 = predict_and_evaluate(model1, val_loader, DEVICE, verbose=True)\n",
        "    bac_2 = predict_and_evaluate(model2, val_loader, DEVICE, verbose=True)\n",
        "\n",
        "    performance(bac_1, bac_2)"
      ],
      "metadata": {
        "id": "9QUDkIPPWDPG"
      },
      "execution_count": null,
      "outputs": []
    },
    {
      "cell_type": "code",
      "source": [
        "def your_select_indices(\n",
        "    targets: torch.Tensor, losses: List[torch.Tensor]\n",
        ") -> List[torch.Tensor]:\n",
        "    losses_model1 = losses[0]\n",
        "    losses_model2 = losses[1]\n",
        "\n",
        "\n",
        "    avg_loss_model1 = losses_model1.mean()\n",
        "    avg_loss_model2 = losses_model2.mean()\n",
        "    threshold_model1 = torch.quantile(losses_model1, 0.75)\n",
        "    threshold_model2 = torch.quantile(losses_model2, 0.75)\n",
        "\n",
        "\n",
        "    if avg_loss_model1 > avg_loss_model2:\n",
        "        losses_model1 = losses_model1 * 0.9\n",
        "    mask_clean = (losses_model1 < threshold_model1) | (losses_model2 < threshold_model2)\n",
        "    all_indices = torch.arange(targets.shape[0], device=targets.device)\n",
        "    clean_indices = all_indices[mask_clean]\n",
        "    clean_losses_model1 = losses_model1[mask_clean]\n",
        "    clean_losses_model2 = losses_model2[mask_clean]\n",
        "\n",
        "    if len(clean_indices) == 0:\n",
        "        return [torch.tensor([], device=targets.device, dtype=torch.long),\n",
        "                torch.tensor([], device=targets.device, dtype=torch.long)]\n",
        "\n",
        "    #--------------------------\n",
        "    random_assign = torch.rand(len(clean_indices), device=targets.device) > 0.5\n",
        "    indices_model1 = clean_indices[random_assign]\n",
        "    indices_model2 = clean_indices[~random_assign]\n",
        "\n",
        "    #-------------------------------\n",
        "    class_counts = torch.bincount(targets, minlength=2)\n",
        "    minority_class = torch.argmin(class_counts).item()\n",
        "    minority_mask = (targets == minority_class)\n",
        "    minority_indices = all_indices[minority_mask]\n",
        "\n",
        "    #----------------------------\n",
        "    sampled_minority_indices = minority_indices[torch.randperm(len(minority_indices))[:len(minority_indices) // 2]]\n",
        "    indices_model1 = torch.cat([indices_model1, sampled_minority_indices])\n",
        "    indices_model2 = torch.cat([indices_model2, sampled_minority_indices])\n",
        "\n",
        "    # --------------------------\n",
        "    indices_model1 = torch.unique(indices_model1)\n",
        "    indices_model2 = torch.unique(indices_model2)\n",
        "\n",
        "    return [indices_model1, indices_model2]"
      ],
      "metadata": {
        "id": "iNTaAJPiinRo"
      },
      "execution_count": null,
      "outputs": []
    },
    {
      "cell_type": "code",
      "source": [
        "######################### NIE ZMIENIAJ TEJ KOMÓRKI ##########################\n",
        "def final_evaluate(evaluate_data_path, model1, model2):\n",
        "\n",
        "    base_transform = transforms.Compose([transforms.ToTensor()])\n",
        "    evaluate_dataset = TaskDataset(root=evaluate_data_path, transform=base_transform)\n",
        "    evaluate_loader = DataLoader(\n",
        "        dataset=evaluate_dataset, batch_size=BATCH_SIZE, shuffle=False\n",
        "    )\n",
        "\n",
        "    bac_1 = predict_and_evaluate(model1, evaluate_loader, DEVICE, verbose=True)\n",
        "    bac_2 = predict_and_evaluate(model2, evaluate_loader, DEVICE, verbose=True)\n",
        "    return performance(bac_1, bac_2)"
      ],
      "metadata": {
        "id": "m6M7eSBwWJZl"
      },
      "execution_count": null,
      "outputs": []
    },
    {
      "cell_type": "code",
      "source": [
        "######################### NIE ZMIENIAJ TEJ KOMÓRKI ##########################\n",
        "if not FINAL_EVALUATION_MODE:\n",
        "    seed_everything(SEED)\n",
        "    criterion = nn.CrossEntropyLoss(reduction=\"none\")\n",
        "\n",
        "    model1 = SmallMobileNet(NUM_CLASSES).to(DEVICE)\n",
        "    model2 = SmallMobileNet(NUM_CLASSES).to(DEVICE)\n",
        "\n",
        "    optimizer1 = AdamW(model1.parameters(), lr=LEARNING_RATE, weight_decay=WEIGHT_DECAY)\n",
        "    optimizer2 = AdamW(model2.parameters(), lr=LEARNING_RATE, weight_decay=WEIGHT_DECAY)\n",
        "\n",
        "    seed_everything(SEED)\n",
        "    train(\n",
        "        model1,\n",
        "        model2,\n",
        "        optimizer1,\n",
        "        optimizer2,\n",
        "        criterion,\n",
        "        train_loader,\n",
        "        val_loader,\n",
        "        NUM_EPOCHS,\n",
        "        DEVICE,\n",
        "        select_indices_fn=your_select_indices,\n",
        "    )\n",
        "\n",
        "    final_evaluate(VAL_DATASET_PATH, model1, model2)"
      ],
      "metadata": {
        "id": "p76rpqPcWJhL",
        "colab": {
          "base_uri": "https://localhost:8080/",
          "height": 1000
        },
        "outputId": "7a5c9d91-ca1a-4f55-cfe5-498f2467acb4"
      },
      "execution_count": null,
      "outputs": [
        {
          "output_type": "stream",
          "name": "stdout",
          "text": [
            "Epoch 1\n"
          ]
        },
        {
          "output_type": "stream",
          "name": "stderr",
          "text": [
            "Epoch 1/6: 100%|██████████| 79/79 [00:10<00:00,  7.79it/s]\n",
            "Validation 1/6: 100%|██████████| 8/8 [00:00<00:00, 11.57it/s]\n"
          ]
        },
        {
          "output_type": "stream",
          "name": "stdout",
          "text": [
            "Model1 - Train Loss: 0.6577, Train balanced accuracy: 0.6241 --- Validation Loss: 1.1813, Validation balanced accuracy: 0.5345, \n",
            "Model2 - Train Loss: 0.6673, Train balanced accuracy: 0.6140 --- Validation Loss: 0.6443, Validation balanced accuracy: 0.8074, \n",
            "Epoch 2\n"
          ]
        },
        {
          "output_type": "stream",
          "name": "stderr",
          "text": [
            "Epoch 2/6: 100%|██████████| 79/79 [00:07<00:00, 10.04it/s]\n",
            "Validation 2/6: 100%|██████████| 8/8 [00:00<00:00, 15.21it/s]\n"
          ]
        },
        {
          "output_type": "stream",
          "name": "stdout",
          "text": [
            "Model1 - Train Loss: 0.5749, Train balanced accuracy: 0.7022 --- Validation Loss: 0.3531, Validation balanced accuracy: 0.7585, \n",
            "Model2 - Train Loss: 0.5881, Train balanced accuracy: 0.6909 --- Validation Loss: 0.4016, Validation balanced accuracy: 0.7423, \n",
            "Epoch 3\n"
          ]
        },
        {
          "output_type": "stream",
          "name": "stderr",
          "text": [
            "Epoch 3/6: 100%|██████████| 79/79 [00:07<00:00,  9.93it/s]\n",
            "Validation 3/6: 100%|██████████| 8/8 [00:00<00:00, 15.25it/s]\n"
          ]
        },
        {
          "output_type": "stream",
          "name": "stdout",
          "text": [
            "Model1 - Train Loss: 0.5831, Train balanced accuracy: 0.6958 --- Validation Loss: 0.4263, Validation balanced accuracy: 0.8475, \n",
            "Model2 - Train Loss: 0.5636, Train balanced accuracy: 0.7077 --- Validation Loss: 0.5713, Validation balanced accuracy: 0.8215, \n",
            "Epoch 4\n"
          ]
        },
        {
          "output_type": "stream",
          "name": "stderr",
          "text": [
            "Epoch 4/6: 100%|██████████| 79/79 [00:07<00:00, 10.15it/s]\n",
            "Validation 4/6: 100%|██████████| 8/8 [00:00<00:00, 11.43it/s]\n"
          ]
        },
        {
          "output_type": "stream",
          "name": "stdout",
          "text": [
            "Model1 - Train Loss: 0.5370, Train balanced accuracy: 0.7350 --- Validation Loss: 0.3747, Validation balanced accuracy: 0.8066, \n",
            "Model2 - Train Loss: 0.5487, Train balanced accuracy: 0.7241 --- Validation Loss: 0.5058, Validation balanced accuracy: 0.8263, \n",
            "Epoch 5\n"
          ]
        },
        {
          "output_type": "stream",
          "name": "stderr",
          "text": [
            "Epoch 5/6: 100%|██████████| 79/79 [00:07<00:00, 10.41it/s]\n",
            "Validation 5/6: 100%|██████████| 8/8 [00:00<00:00, 15.61it/s]\n"
          ]
        },
        {
          "output_type": "stream",
          "name": "stdout",
          "text": [
            "Model1 - Train Loss: 0.5477, Train balanced accuracy: 0.7302 --- Validation Loss: 0.3362, Validation balanced accuracy: 0.8494, \n",
            "Model2 - Train Loss: 0.5319, Train balanced accuracy: 0.7252 --- Validation Loss: 0.3791, Validation balanced accuracy: 0.8515, \n",
            "Epoch 6\n"
          ]
        },
        {
          "output_type": "stream",
          "name": "stderr",
          "text": [
            "Epoch 6/6: 100%|██████████| 79/79 [00:07<00:00,  9.93it/s]\n",
            "Validation 6/6: 100%|██████████| 8/8 [00:00<00:00, 15.69it/s]\n"
          ]
        },
        {
          "output_type": "stream",
          "name": "stdout",
          "text": [
            "Model1 - Train Loss: 0.5144, Train balanced accuracy: 0.7345 --- Validation Loss: 0.3049, Validation balanced accuracy: 0.7824, \n",
            "Model2 - Train Loss: 0.5149, Train balanced accuracy: 0.7351 --- Validation Loss: 0.3363, Validation balanced accuracy: 0.8687, \n"
          ]
        },
        {
          "output_type": "display_data",
          "data": {
            "text/plain": [
              "<Figure size 1400x600 with 2 Axes>"
            ],
            "image/png": "[encoded data removed]"
          },
          "metadata": {}
        },
        {
          "output_type": "stream",
          "name": "stdout",
          "text": [
            "Balanced Accuracy: 0.7824296499656829\n",
            "Balanced Accuracy: 0.8686727865477007\n",
            "Twoje rozwiązanie ma średnią wartość balanced accuracy równą 0.82555 na zbiorze walidacyjnym, co daje 100/100 punktów.\n"
          ]
        }
      ]
    },
    {
      "cell_type": "code",
      "source": [
        "######################### NIE ZMIENIAJ TEJ KOMÓRKI ##########################\n",
        "if FINAL_EVALUATION_MODE:\n",
        "    import cloudpickle\n",
        "\n",
        "    OUTPUT_PATH = \"file_output\"\n",
        "    FUNCTION_FILENAME = \"your_select_indices.pkl\"\n",
        "    FUNCTION_OUTPUT_PATH = os.path.join(OUTPUT_PATH, FUNCTION_FILENAME)\n",
        "\n",
        "    if not os.path.exists(OUTPUT_PATH):\n",
        "        os.makedirs(OUTPUT_PATH)\n",
        "\n",
        "    with open(FUNCTION_OUTPUT_PATH, \"wb\") as f:\n",
        "        cloudpickle.dump(your_select_indices, f)"
      ],
      "metadata": {
        "id": "4rVGLBWRWJnT"
      },
      "execution_count": null,
      "outputs": []
    }
  ]
}